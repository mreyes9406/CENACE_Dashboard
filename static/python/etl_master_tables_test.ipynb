{
 "cells": [
  {
   "cell_type": "code",
   "execution_count": 1,
   "metadata": {},
   "outputs": [],
   "source": [
    "from sqlalchemy import create_engine\n",
    "from sqlalchemy.ext.declarative import declarative_base\n",
    "from sqlalchemy import Column, String, Integer\n",
    "import pymysql\n",
    "pymysql.install_as_MySQLdb()"
   ]
  },
  {
   "cell_type": "code",
   "execution_count": 2,
   "metadata": {},
   "outputs": [],
   "source": [
    "Base = declarative_base()\n",
    "\n",
    "class Zones_Catalogue(Base):\n",
    "    __tablename__ = 'zones_catalogue'\n",
    "    id = Column(Integer, primary_key=True)\n",
    "    clave_nodo_p = Column(String(50))\n",
    "    nombre_nodo_p = Column(String(50))\n",
    "    carga_directamente_modelada = Column(String(50))\n",
    "    carga_indirectamente_modelada = Column(String(50))\n",
    "    gen_directamente_modelada = Column(String(50))\n",
    "    gen_indirectamente_modelada = Column(String(50))"
   ]
  },
  {
   "cell_type": "code",
   "execution_count": 3,
   "metadata": {},
   "outputs": [],
   "source": [
    "# Create Database Connection\n",
    "engine = create_engine('sqlite:///../../resources/database.sqlite')\n",
    "conn = engine.connect()\n",
    "Base.metadata.create_all(engine)"
   ]
  },
  {
   "cell_type": "code",
   "execution_count": 4,
   "metadata": {},
   "outputs": [],
   "source": [
    "from sqlalchemy.orm import Session\n",
    "session = Session(bind=engine)"
   ]
  },
  {
   "cell_type": "code",
   "execution_count": 5,
   "metadata": {},
   "outputs": [],
   "source": [
    "import pandas as pd\n",
    "\n",
    "P_NodesXLSX = \"../../resources/Catalogo_NodosP_Sistema_Electrico_Nacional_v2018_12_19.xlsx\"\n",
    "P_NodesDF = pd.read_excel(P_NodesXLSX, header=1)\n",
    "P_NodesDF = P_NodesDF.rename(columns={\n",
    "                                      \"CLAVE\":\"clave_nodo_p\",\n",
    "                                      \"NOMBRE\":\"nombre_nodo_p\",\n",
    "                                      \"DIRECTAMENTE MODELADA\":\"carga_directamente_modelada\",\n",
    "                                      \"INDIRECTAMENTE MODELADA\":\"carga_indirectamente_modelada\",\n",
    "                                      \"DIRECTAMENTE MODELADA.1\":\"gen_directamente_modelada\",\n",
    "                                      \"INDIRECTAMENTE MODELADA.1\":\"gen_indirectamente_modelada\",\n",
    "                                     })\n",
    "P_NodesDF.to_sql('zones_catalogue', engine, if_exists='replace', index_label='id')"
   ]
  },
  {
   "cell_type": "code",
   "execution_count": null,
   "metadata": {},
   "outputs": [],
   "source": []
  }
 ],
 "metadata": {
  "kernelspec": {
   "display_name": "Python 3",
   "language": "python",
   "name": "python3"
  },
  "language_info": {
   "codemirror_mode": {
    "name": "ipython",
    "version": 3
   },
   "file_extension": ".py",
   "mimetype": "text/x-python",
   "name": "python",
   "nbconvert_exporter": "python",
   "pygments_lexer": "ipython3",
   "version": "3.6.5"
  }
 },
 "nbformat": 4,
 "nbformat_minor": 2
}
